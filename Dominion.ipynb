{
 "cells": [
  {
   "cell_type": "code",
   "execution_count": 3,
   "metadata": {},
   "outputs": [
    {
     "name": "stdout",
     "output_type": "stream",
     "text": [
      "Ready to start? Input # of players4\n",
      "Player 0\n",
      "Player 1\n",
      "Player 2\n",
      "Player 3\n"
     ]
    }
   ],
   "source": [
    "from random import shuffle\n",
    "\n",
    "# Total card count of 15? Need dictionary of each card: Cost, action, points, curse, etc.\n",
    "\n",
    "# BASIC CARDS\n",
    "copper = {\"name\":\"copper\", \"cardtype\":\"treasure\", \"victory\":0, \"cost\":0, \"value\":1}\n",
    "silver = {\"name\":\"silver\", \"cardtype\":\"treasure\", \"victory\":0, \"cost\":3, \"value\":2}\n",
    "gold = {\"name\":\"gold\", \"cardtype\":\"treasure\", \"victory\":0, \"cost\":6, \"value\":3}\n",
    "\n",
    "estate = {\"name\":\"estate\", \"cardtype\":\"victory\", \"victory\":1, \"cost\":2, \"value\":0}\n",
    "duchy = {\"name\":\"duchuy\", \"cardtype\":\"victory\", \"victory\":3, \"cost\":5, \"value\":0}\n",
    "province = {\"name\":\"province\", \"cardtype\":\"victory\", \"victory\":6, \"cost\":8, \"value\":0}\n",
    "curse = {\"name\":\"curse\", \"cardtype\":\"victory\", \"victory\":-1, \"cost\":0, \"value\":0}\n",
    "\n",
    "# KINGDOM CARDS\n",
    "def cellar(x):\n",
    "    pass\n",
    "    #action = action + 1\n",
    "    #playerinput = input(\"Cellar: +1 Action. Discard any number of cards, then draw that many. What would you like to discard? \")\n",
    "    #playerinput to discard pile\n",
    "    #draw number of playerinput to hand\n",
    "    \n",
    "# Choose what cards or randomize\n",
    "\n",
    "player1_drawpile = [0]\n",
    "player1_discardpile = [0]\n",
    "player1_hand =[0]\n",
    "\n",
    "# Each player starts with 8 copper and 2 estates. Shuffle cards and put in draw pile.\n",
    "number_of_players = input(\"Ready to start? Input # of players\")\n",
    "if int(number_of_players) < 2:\n",
    "    print(\"Need at least 2 players\")\n",
    "elif int(number_of_players) > 8:\n",
    "    print(\"8 is maximum\")\n",
    "else:\n",
    "    for i in range(int(number_of_players)):\n",
    "        print(\"Player \" + str(i))\n",
    "\n",
    "# Player 1 starts, draw 5 cards from draw pile to hand.\n",
    "\n",
    "\n",
    "# Action phase. Use action cards in hand. If no action cards, go to buy phase.\n",
    "# Buy phase. Choose to buy or upgrade to silver. Place bought card to discard pile.\n",
    "# Discard phase. Discard current hand to discard pile.\n",
    "# When draw pile < 5, shuffle discard pile. Discard pile .append to draw pile.\n",
    "# End turn.\n",
    "# Player 2 turn.\n",
    "# End condition = When 4 piles are gone OR all 6-pointers are gone.\n",
    "# Count points for winner."
   ]
  },
  {
   "cell_type": "code",
   "execution_count": null,
   "metadata": {},
   "outputs": [],
   "source": []
  }
 ],
 "metadata": {
  "kernelspec": {
   "display_name": "Python 3",
   "language": "python",
   "name": "python3"
  },
  "language_info": {
   "codemirror_mode": {
    "name": "ipython",
    "version": 3
   },
   "file_extension": ".py",
   "mimetype": "text/x-python",
   "name": "python",
   "nbconvert_exporter": "python",
   "pygments_lexer": "ipython3",
   "version": "3.7.0"
  }
 },
 "nbformat": 4,
 "nbformat_minor": 2
}
